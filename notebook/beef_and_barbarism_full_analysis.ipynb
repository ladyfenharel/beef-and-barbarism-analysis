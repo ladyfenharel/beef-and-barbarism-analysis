{
 "cells": [
  {
   "cell_type": "markdown",
   "id": "4a8cdfb6",
   "metadata": {},
   "source": [
    "# Beef and Barbarism: Data Analysis Notebook\n",
    "\n",
    "This notebook contains visualizations supporting the project *\"Beef and Barbarism: A Data-Driven Analysis of America's Meat Industry\"*.\n",
    "It includes:\n",
    "- Indexed growth of cattle ranching vs. Native American land loss\n",
    "- Global beef consumption by country in 1961\n"
   ]
  },
  {
   "cell_type": "code",
   "execution_count": null,
   "id": "901ede1d",
   "metadata": {},
   "outputs": [],
   "source": [
    "import matplotlib.pyplot as plt\n",
    "import numpy as np\n"
   ]
  },
  {
   "cell_type": "markdown",
   "id": "072b733c",
   "metadata": {},
   "source": [
    "## 1. Native American Land Loss vs. Cattle Ranching Expansion (1865–1890)\n"
   ]
  },
  {
   "cell_type": "code",
   "execution_count": null,
   "id": "a6e5995c",
   "metadata": {},
   "outputs": [],
   "source": [
    "# Data\n",
    "years = [1865, 1870, 1880, 1890]\n",
    "native_land = [138, 115, 100, 78]  # million acres\n",
    "cattle_index = [100, 150, 200, 317]  # indexed to 1865\n",
    "\n",
    "# Bar chart\n",
    "bar_width = 0.35\n",
    "index = np.arange(len(years))\n",
    "\n",
    "fig, ax = plt.subplots(figsize=(10, 6))\n",
    "ax.bar(index, native_land, bar_width, label='Native Land (million acres)', color='salmon')\n",
    "ax.bar(index + bar_width, cattle_index, bar_width, label='Cattle Ranching Index', color='steelblue')\n",
    "\n",
    "ax.set_xlabel('Year')\n",
    "ax.set_ylabel('Value')\n",
    "ax.set_title('Native American Land vs. Cattle Ranching Expansion (1865–1890)')\n",
    "ax.set_xticks(index + bar_width / 2)\n",
    "ax.set_xticklabels(years)\n",
    "ax.legend()\n",
    "plt.grid(axis='y')\n",
    "plt.tight_layout()\n",
    "plt.show()\n"
   ]
  },
  {
   "cell_type": "markdown",
   "id": "8cdcd4a8",
   "metadata": {},
   "source": [
    "## 2. Top Beef-Consuming Countries (1961)\n"
   ]
  },
  {
   "cell_type": "code",
   "execution_count": null,
   "id": "a1bbd505",
   "metadata": {},
   "outputs": [],
   "source": [
    "# Data\n",
    "countries = [\"Argentina\", \"Uruguay\", \"New Zealand\", \"Australia\", \"USA\", \"Canada\", \"UK\", \"Japan\", \"China (Mainland)\"]\n",
    "consumption = [184, 167, 103, 90, 90, 80, 54, 3, 0]\n",
    "\n",
    "# Bar chart\n",
    "plt.figure(figsize=(10, 6))\n",
    "plt.bar(countries, consumption, color='peru')\n",
    "plt.title(\"Top Beef-Consuming Countries (1961)\")\n",
    "plt.xlabel(\"Country\")\n",
    "plt.ylabel(\"Beef Consumption per Capita (lbs)\")\n",
    "plt.xticks(rotation=45)\n",
    "plt.grid(axis='y')\n",
    "plt.tight_layout()\n",
    "plt.show()\n"
   ]
  }
 ],
 "metadata": {},
 "nbformat": 4,
 "nbformat_minor": 5
}
